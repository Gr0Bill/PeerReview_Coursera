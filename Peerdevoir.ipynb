{
  "metadata": {
    "language_info": {
      "codemirror_mode": {
        "name": "python",
        "version": 3
      },
      "file_extension": ".py",
      "mimetype": "text/x-python",
      "name": "python",
      "nbconvert_exporter": "python",
      "pygments_lexer": "ipython3",
      "version": "3.8"
    },
    "kernelspec": {
      "name": "python",
      "display_name": "Python (Pyodide)",
      "language": "python"
    }
  },
  "nbformat_minor": 4,
  "nbformat": 4,
  "cells": [
    {
      "cell_type": "markdown",
      "source": "<h1>My Jupyter Notebook on IBM Watson Studio</h1> ",
      "metadata": {}
    },
    {
      "cell_type": "markdown",
      "source": "**Thomas Karskens**\n\nCurrent occupation : Master in Finance.\n\n\nDesired occupation : Data Science researcher, journalist",
      "metadata": {
        "tags": []
      }
    },
    {
      "cell_type": "markdown",
      "source": "*I'm interested in data science because I believe It's a working process that can take into account new dimensions of knowledge. It can help showing new prismes of reality.*",
      "metadata": {}
    },
    {
      "cell_type": "markdown",
      "source": "<h3>The next cell will calculate how many KM I'm biking everyday<h3>",
      "metadata": {}
    },
    {
      "cell_type": "code",
      "source": "import math      #importing math\nDistance2work = 14  # Self-explanatory\nDistance2Kmart= 3   #Distance from work to the Kmart to go buy a sandwich\nTotalKM = math.ceil(Distance2work*2+Distance2Kmart*2)\nprint ('I ride roughly' ,TotalKM, 'km everyday') #output of value",
      "metadata": {
        "trusted": true
      },
      "execution_count": 15,
      "outputs": [
        {
          "name": "stdout",
          "text": "I ride roughly 34 km everyday\n",
          "output_type": "stream"
        }
      ]
    },
    {
      "cell_type": "markdown",
      "source": "<h3>This is a nice image<h3>\n\n![Ooh it doesn't load :(](https://i.imgur.com/INw9SC0.jpeg)\n\n<s>This is a strikethrough text<s> \n    \nand this is a link to coursera :\n \n<https://www.coursera.org/>\n    ",
      "metadata": {}
    },
    {
      "cell_type": "code",
      "source": "",
      "metadata": {},
      "execution_count": null,
      "outputs": []
    }
  ]
}